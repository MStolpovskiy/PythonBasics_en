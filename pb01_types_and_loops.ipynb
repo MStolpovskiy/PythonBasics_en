{
 "cells": [
  {
   "cell_type": "markdown",
   "metadata": {
    "colab_type": "text",
    "id": "NtFM0sYFVEbk"
   },
   "source": [
    "# Programming on Python, basics\n",
    "--- variables, strings, if, while, arrays, for loops, functions ---\n",
    "\n",
    "- Why Python? https://www.infoworld.com/article/3401536/python-popularity-reaches-an-all-time-high.html\n",
    "\n",
    "- A temporary solution, if you don't want to install python on your computer right now http://colab.research.google.com \n",
    "\n",
    "- How to install anaconda python \n",
    "    \n",
    "    Windows: https://problemsolvingwithpython.com/01-Orientation/01.03-Installing-Anaconda-on-Windows/\n",
    "\n",
    "    For those who don't need instructions (any other OS): https://www.anaconda.com/distribution/\n",
    "\n",
    "- Anaconda console is accessible from the start menu on windows. On mac or linux the terminal commands python and ipython are available (the latter is more convenient for interactive work)\n",
    "\n",
    "- Install jupyter : https://problemsolvingwithpython.com/02-Jupyter-Notebooks/02.03-Installing-Juypter/\n",
    "- Написать программу Hello World"
   ]
  },
  {
   "cell_type": "markdown",
   "metadata": {},
   "source": [
    "### First exercise\n",
    "Make python print a line"
   ]
  },
  {
   "cell_type": "code",
   "execution_count": 1,
   "metadata": {
    "colab": {},
    "colab_type": "code",
    "id": "7sC2uIBoVl7S"
   },
   "outputs": [
    {
     "name": "stdout",
     "output_type": "stream",
     "text": [
      "Hello World!\n"
     ]
    }
   ],
   "source": [
    "print(\"Hello World!\")"
   ]
  },
  {
   "cell_type": "markdown",
   "metadata": {
    "colab_type": "text",
    "id": "FAVlokgEVnla"
   },
   "source": [
    "- (If you have installed python on your computer) Check preinstalled packages:\n",
    "\n",
    "        import numpy\n",
    "        import math\n",
    "        import matplotlib.pyplot\n",
    "        import pandas\n",
    "\n",
    "- If not installed -- install (google how to use `pip`)"
   ]
  },
  {
   "cell_type": "markdown",
   "metadata": {},
   "source": [
    "- (If you have installed python on your computer) Run hello_world.py from the console (understanding the difference between notebook and console)\n",
    "\n",
    "Create file `hello_world.py`\n",
    "\n",
    "Run from `anaconda console` : `python hello_world.py`\n",
    "\n",
    "Run `ipython`\n",
    "\n",
    "From `ipython` launch `hello_world.py`"
   ]
  },
  {
   "cell_type": "markdown",
   "metadata": {
    "colab_type": "text",
    "id": "as5-AvaEWBn8"
   },
   "source": [
    "### Ex. 2: Learn good style\n",
    "- Fix code style:\n",
    "        def printComplexNumber(realpartofcomplexnumber = 0,imagpartofcomplexnumber= 0 ) :\n",
    "            R=   realpartofcomplexnumber\n",
    "            I=imagpartofcomplexnumber\n",
    "            return f\"({R } + { I}i)\"\n",
    "        Longvariablename=printComplexNumber(3.0,-4.5)\n",
    "        print( Longvariablename)\n",
    "\n",
    "Good style rules in python (incomplete list):\n",
    "\n",
    "  - The operations `=`, `+`, `-` etc. are surrounded by spaces\n",
    "  - Variables, function arguments and functions are named with a small letter, long names are separated by _\n",
    "      - in code above `printComplexNumber` is a function name\n",
    "      - `R`, `I`, `Longvariablename` are variables\n",
    "      - `realpartofcomplexnumber` and `imagpartofcomplexnumber` are function arguments\n",
    "  - From the name of the variable or function, it should be roughly clear what it does\n",
    "  - The function definition (in our example this is from the word `def` and the three lines below) is separated from the rest of the code by blank lines\n",
    "  - The `import` command block is separated by a blank line from the rest of the code (what `import` is below)\n",
    "  - Logically different parts of the code are separated by a blank line\n",
    "  - The comment begins after the `#` symbol. All non-obvious places in the code must be commented out.\n",
    "  - Mind to add documentation to any function:\n",
    "        def fun():\n",
    "            '''\n",
    "            Function that does absolutely nothing\n",
    "            '''\n",
    "            pass\n",
    "  - The comma is followed by a space.\n",
    "  - Spaces next to the brackets are unnecessary. I.e. `(x)` is correct. `( x )` is wrong.\n",
    "  - The dot operator is not marked with spaces. Neither are the operators `**` and `%`.\n",
    "  - Long lines must be broken up. After the comma, you can safely move it to a new line. This should be aligned to visually join the lines. If there is no comma, you can use the newline command `\\`"
   ]
  },
  {
   "cell_type": "code",
   "execution_count": null,
   "metadata": {
    "colab": {
     "base_uri": "https://localhost:8080/",
     "height": 34
    },
    "colab_type": "code",
    "id": "X1SaTzpbWYdT",
    "outputId": "8be87761-e50d-46ca-ac5c-074211f64b3a"
   },
   "outputs": [],
   "source": []
  },
  {
   "cell_type": "markdown",
   "metadata": {
    "colab_type": "text",
    "id": "5lKYWnZbWYwv"
   },
   "source": [
    "### Ex. 3: Using Python as an advanced calculator\n",
    "\n",
    "Declare the variable $x = (1+\\sqrt{5})/2$\n",
    "Calculate $x^2-x$\n",
    "\n",
    "- Power: `x * x` or better `x**2`\n",
    "- Square root is equivalent to the power of 0.5\n",
    "\n",
    "Declare $z = i$ (imaginary unit). Calculate z^2\n",
    "  - Complex number example : `n = 1 + 1j`\n",
    "  - `1j` -- imaginary unit\n",
    "\n",
    "What is $2^{1000}$ ?\n",
    "  - In any other programming language that would cause an overflow!\n",
    "  - In python, numbers can in principle be arbitrarily large"
   ]
  },
  {
   "cell_type": "code",
   "execution_count": null,
   "metadata": {
    "colab": {},
    "colab_type": "code",
    "id": "F5GV3EO-WcCx"
   },
   "outputs": [],
   "source": []
  },
  {
   "cell_type": "code",
   "execution_count": null,
   "metadata": {},
   "outputs": [],
   "source": []
  },
  {
   "cell_type": "code",
   "execution_count": null,
   "metadata": {},
   "outputs": [],
   "source": []
  },
  {
   "cell_type": "markdown",
   "metadata": {
    "colab_type": "text",
    "id": "oR1KP1HhWcbV"
   },
   "source": [
    "### Ex. 3: Data types, arythmetics\n",
    "\n",
    "- There are several types in python, among other:\n",
    "        integer\n",
    "        float\n",
    "        string\n",
    "  - Float is for fractional numbers\n",
    "  - Create a variable of each type\n",
    "  - Declare a variable of type string, then assign a number to it\n",
    "\n",
    "- Divide 9 (integer) by 5 (integer). What is the answer? What type is it?\n",
    "  - Do the same with `//` operator. What is the answer? What type is it?\n",
    "  - Try modulo operator `%`. What is the answer?\n",
    "\n",
    "- Divide 3 by 0\n",
    "\n",
    "- Add `'Hello'` and `'World'`. How to make sure that the result is `'Hello World'`?\n",
    "\n",
    "- Add two variables of different types\n",
    "\n",
    "- Multiply a string by a number\n",
    "\n",
    "- ... a number by a string\n",
    "\n",
    "- Subtract something from a string"
   ]
  },
  {
   "cell_type": "code",
   "execution_count": null,
   "metadata": {
    "colab": {
     "base_uri": "https://localhost:8080/",
     "height": 80
    },
    "colab_type": "code",
    "id": "e8-_yxs8W4P_",
    "outputId": "ad5d0558-5837-42d8-cc65-5e1876cbf07d"
   },
   "outputs": [],
   "source": []
  },
  {
   "cell_type": "code",
   "execution_count": null,
   "metadata": {},
   "outputs": [],
   "source": []
  },
  {
   "cell_type": "markdown",
   "metadata": {
    "colab_type": "text",
    "id": "msFy3_1OW5je"
   },
   "source": [
    "- Declare a numerical variable (choose its name yourself)\n",
    "- Change it by adding 1:\n",
    "\n",
    "      var = var + 1\n",
    "\n",
    "- Same result can be achieved with\n",
    "\n",
    "      var += 1\n",
    "    \n",
    "- Try `*=`, `/=`, `-=`"
   ]
  },
  {
   "cell_type": "code",
   "execution_count": null,
   "metadata": {
    "colab": {
     "base_uri": "https://localhost:8080/",
     "height": 116
    },
    "colab_type": "code",
    "id": "JdKcpgSEW8EE",
    "outputId": "64c19892-faee-4665-fa07-1d9ea69e47d2"
   },
   "outputs": [],
   "source": []
  },
  {
   "cell_type": "code",
   "execution_count": null,
   "metadata": {},
   "outputs": [],
   "source": []
  },
  {
   "cell_type": "markdown",
   "metadata": {
    "colab_type": "text",
    "id": "83o2_-I0W8cH"
   },
   "source": [
    "- Type conversion:\n",
    "\n",
    "    - Convert a number to string: `str(5)`\n",
    "    - Convert sting to number `int('5')`\n",
    "    - Convert integer to float `float(5)`"
   ]
  },
  {
   "cell_type": "code",
   "execution_count": null,
   "metadata": {
    "colab": {
     "base_uri": "https://localhost:8080/",
     "height": 116
    },
    "colab_type": "code",
    "id": "iVPpGL8oW-94",
    "outputId": "5179dfc3-970f-444c-8274-34e97024b038"
   },
   "outputs": [],
   "source": []
  },
  {
   "cell_type": "markdown",
   "metadata": {
    "colab_type": "text",
    "id": "Rh2arBEhW_Lr"
   },
   "source": [
    "- Operators `**`, `%`, `//`\n",
    "    - `**` -- power\n",
    "    - `%` -- modulo\n",
    "    - `//` -- integer division\n",
    "- Try to experiment with these operators: how they work with different types? With negative numbers? With zeros?"
   ]
  },
  {
   "cell_type": "code",
   "execution_count": null,
   "metadata": {},
   "outputs": [],
   "source": []
  },
  {
   "cell_type": "markdown",
   "metadata": {
    "colab_type": "text",
    "id": "dqMDalrGXCIF"
   },
   "source": [
    "- More math functions and constants are available in third-party libraries\n",
    "\n",
    "      from math import sin, sqrt\n",
    "      from numpy import pi\n",
    "      \n",
    "- Calculate $sin(90^\\circ)$\n",
    "- Declare a variable `f = sin`, calculate `f(pi)`.\n",
    "- Reassign `f = cos`, calculate `f(pi)`\n",
    "- Suppose you forgot what is sqrt. Try in a new cell:\n",
    " \n",
    "      sqrt?"
   ]
  },
  {
   "cell_type": "code",
   "execution_count": null,
   "metadata": {
    "colab": {
     "base_uri": "https://localhost:8080/",
     "height": 116
    },
    "colab_type": "code",
    "id": "UupPjgiPXZSQ",
    "outputId": "e4fd57fa-b69b-4704-c2ee-ec3dd21167f4"
   },
   "outputs": [],
   "source": []
  },
  {
   "cell_type": "markdown",
   "metadata": {
    "colab_type": "text",
    "id": "oIjPfbiWXZ7H"
   },
   "source": [
    "### Ex. 4: Strings\n",
    " - two ways to declare a string: with `' '` or `\" \"`\n",
    " - How to make a string that contains a quote symbol?\n",
    " - Elegant ways to declare long strings:\n",
    " \n",
    "       s = ('very '\n",
    "            'long '\n",
    "            'string')\n",
    "            \n",
    "   Or\n",
    "   \n",
    "       s = '''\n",
    "       A very\n",
    "       very\n",
    "       long\n",
    "       string\n",
    "           '''\n",
    "\n",
    " - Special characters `\\n \\t`\n",
    " - raw string: `r'This is the raw string \\n'`\n",
    " - A \\ symbol `'\\\\'`\n",
    " - Accessing symbols by their position:\n",
    " \n",
    "       s = 'abcdefg'\n",
    "       print(s[3]) # prints the 4ht symbol. Counting from 0 (always)!\n",
    "\n",
    " - String length : `len(s)`\n",
    " - Split string:\n",
    " \n",
    "       s = 'a string to be splitted'\n",
    "       print(s.split()[4])\n",
    "       print(s.split('t')[2])"
   ]
  },
  {
   "cell_type": "code",
   "execution_count": null,
   "metadata": {},
   "outputs": [],
   "source": []
  },
  {
   "cell_type": "code",
   "execution_count": null,
   "metadata": {},
   "outputs": [],
   "source": []
  },
  {
   "cell_type": "markdown",
   "metadata": {
    "colab": {
     "base_uri": "https://localhost:8080/",
     "height": 132
    },
    "colab_type": "code",
    "id": "SlnyBc8tsPPH",
    "outputId": "65b93e2a-6863-4c64-8ae4-4af12869b76b"
   },
   "source": [
    "Sometimes you need to print something like:\n",
    "\n",
    "    \"Google shares rise 5.25%\"\n",
    "    \n",
    "Where \"Google\", \"rise\" and 5.25 -- are all variables. For this use formatted strings:\n",
    "\n",
    "    company_name = 'Google'\n",
    "    growth = 5.253\n",
    "    # next line will be explained once we'll learn arrays\n",
    "    rise_or_fall = ['rise', 'fall'][int(growth < 0)]\n",
    "    f\"{company_name} shares {rise_or_fall} {abs(growth):.2f}%\")\n",
    "    \n",
    "Here we used `:.2f` to limit the print of a fractional number to 2 digits after zero. There are many other options to format a number: google it yourself!"
   ]
  },
  {
   "cell_type": "code",
   "execution_count": null,
   "metadata": {
    "colab": {
     "base_uri": "https://localhost:8080/",
     "height": 116
    },
    "colab_type": "code",
    "id": "QeEpU3vKsO8c",
    "outputId": "15e010df-8b44-40d7-f50a-42d8bb79fd61"
   },
   "outputs": [],
   "source": []
  },
  {
   "cell_type": "markdown",
   "metadata": {},
   "source": [
    "- Print `\"---...---\"` 10 times, without printing `\"---...---\"` in the code"
   ]
  },
  {
   "cell_type": "code",
   "execution_count": null,
   "metadata": {},
   "outputs": [],
   "source": []
  },
  {
   "cell_type": "markdown",
   "metadata": {
    "colab_type": "text",
    "id": "kX58hMZ2N4qB"
   },
   "source": [
    "# Homework 1\n",
    "\n",
    "- Calculate $\\sqrt[3]{10}$\n",
    "\n",
    "- Print current time like `'Local time is Wed Feb 31 25:00:00 2032'`.\n",
    "\n",
    "      import time # imports time library\n",
    "      time.time() # current time in seconds since January 1, 1970, 00:00:00\n",
    "      time.ctime() # converts time from seconds to a readable format\n",
    "\n",
    "- Fix code style:\n",
    "\n",
    "        from math import sqrt\n",
    "        coefa= 1\n",
    "        coefb =5\n",
    "        coefc=6\n",
    "        discriminant = (coefb**2) -(4*coefa*coefc)\n",
    "        sol1= (-coefb- sqrt(discriminant))/(2*coefa)\n",
    "        sol2 =(-coefb+  sqrt(discriminant))/(2*coefa)\n",
    "        print('The solutions are {0} and {1}'.format(sol1,sol2))\n",
    "\n",
    "- What does this code do? Comment the code out. Rename variables to make the code clearer. Replace `format` with formatted string."
   ]
  },
  {
   "cell_type": "code",
   "execution_count": null,
   "metadata": {
    "colab": {
     "base_uri": "https://localhost:8080/",
     "height": 35
    },
    "colab_type": "code",
    "id": "Meydy2baOQiR",
    "outputId": "c3aa2ae4-3bd1-4206-e98f-38ecc6078e61"
   },
   "outputs": [],
   "source": []
  },
  {
   "cell_type": "code",
   "execution_count": null,
   "metadata": {
    "colab": {
     "base_uri": "https://localhost:8080/",
     "height": 35
    },
    "colab_type": "code",
    "id": "4xgE3JdiFWJG",
    "outputId": "f5742098-2320-42a4-a094-32871869dbcb"
   },
   "outputs": [],
   "source": []
  },
  {
   "cell_type": "markdown",
   "metadata": {
    "colab_type": "text",
    "id": "iDfYxWblXnXY"
   },
   "source": [
    "### Ex. 5: Boolean logic\n",
    "\n",
    "- Boolean variables can have only two values:\n",
    "\n",
    "        False, True\n",
    "\n",
    "- It can be used to split the algorithm:\n",
    "\n",
    "        if my_salary < 1e6: # scientific notation!\n",
    "            my_salary *= 2\n",
    "            \n",
    "  The 2nd line will be executed only if `my_salary` is less than a million\n",
    "  \n",
    "- More possibilities to split:\n",
    " \n",
    "        if pig == 1: # Attention! Comparison for equality with == !\n",
    "            material = 'straws'\n",
    "        elif pig == 2:\n",
    "            material = 'sticks'\n",
    "        else:\n",
    "            material = 'bricks'\n",
    "            \n",
    "- More possibilities to compare numbers : `< <= == != >= >`\n",
    "\n",
    "        if 42 > 123:\n",
    "            print(\"Houston, we have a problem!\")\n",
    "        else:\n",
    "            print('42 < 123 !')\n",
    "\n",
    "- Chained comparisons:\n",
    "\n",
    "        x = 15\n",
    "        10 < x < 20\n",
    "\n",
    "- And, or, not:\n",
    "\n",
    "        if material != 'bricks' or not pig.is_inside():\n",
    "            print('The little pig is eaten')\n",
    "\n",
    "- Identicity test\n",
    "\n",
    "        x = None\n",
    "        if x is None:\n",
    "            print(\"x is not defined\")"
   ]
  },
  {
   "cell_type": "code",
   "execution_count": null,
   "metadata": {},
   "outputs": [],
   "source": []
  },
  {
   "cell_type": "code",
   "execution_count": null,
   "metadata": {},
   "outputs": [],
   "source": []
  },
  {
   "cell_type": "code",
   "execution_count": 17,
   "metadata": {
    "colab": {
     "base_uri": "https://localhost:8080/",
     "height": 92
    },
    "colab_type": "code",
    "id": "zyBYwcE9Xwks",
    "outputId": "7d5de01f-dd84-4609-b0ef-fb443500c1bf"
   },
   "outputs": [
    {
     "name": "stdout",
     "output_type": "stream",
     "text": [
      "Tax calculator. Enter your salary: 8000\n",
      "Pay tax 1600.0\n"
     ]
    }
   ],
   "source": [
    "salary = int(input(\"Tax calculator. Enter your salary: \"))\n",
    "\n",
    "if salary < 1000:\n",
    "    p = 5\n",
    "elif 1000 <= salary < 5000: # elif = else if\n",
    "    p = 10\n",
    "else:\n",
    "    p = 20\n",
    "    \n",
    "tax = p * salary / 100\n",
    "print(f'Pay tax {tax}')"
   ]
  },
  {
   "cell_type": "markdown",
   "metadata": {
    "colab_type": "text",
    "id": "MNirzmkWXxXs"
   },
   "source": [
    "- Test if an integer is even or odd. Print the result with words."
   ]
  },
  {
   "cell_type": "code",
   "execution_count": null,
   "metadata": {
    "colab": {
     "base_uri": "https://localhost:8080/",
     "height": 55
    },
    "colab_type": "code",
    "id": "D1SpB3AvX1j2",
    "outputId": "a2c03160-cb68-46f5-abde-ad53652b8c97"
   },
   "outputs": [],
   "source": []
  },
  {
   "cell_type": "markdown",
   "metadata": {
    "colab_type": "text",
    "id": "n5GeDz09X19I"
   },
   "source": [
    "- Test if a number is divisible by 5 and is smaller than 50\n",
    "- Check if a number is divisible by 7 or 3\n",
    "- Check if a number is divisible by 7 but not divisible by 3"
   ]
  },
  {
   "cell_type": "code",
   "execution_count": null,
   "metadata": {},
   "outputs": [],
   "source": []
  },
  {
   "cell_type": "code",
   "execution_count": null,
   "metadata": {
    "colab": {
     "base_uri": "https://localhost:8080/",
     "height": 35
    },
    "colab_type": "code",
    "id": "9MoNkhvNX7YI",
    "outputId": "b294ed48-f35b-4d58-e339-c78037d55065"
   },
   "outputs": [],
   "source": []
  },
  {
   "cell_type": "markdown",
   "metadata": {
    "colab_type": "text",
    "id": "12piIi4aX8aP"
   },
   "source": [
    "- Solve a quadratic equation $ax^2 + bx + c$\n",
    "\n",
    "Reminder from school math:\n",
    "\n",
    "An equation $ax^2 + bx + c$ has two solutions\n",
    "\n",
    "$x_{1, 2} = \\frac{-b \\pm \\sqrt{D}}{2a}$\n",
    "\n",
    "where $D = b^2 - 4ac$ is called discriminant.\n",
    "\n",
    "Check the discriminant. 3 cases: <, =, > 0\n",
    "\n",
    "   - If D > 0 => two solutions\n",
    "   - If D == 0 => one solution\n",
    "   - If D < 0 => no solutions"
   ]
  },
  {
   "cell_type": "code",
   "execution_count": null,
   "metadata": {},
   "outputs": [],
   "source": []
  },
  {
   "cell_type": "code",
   "execution_count": null,
   "metadata": {
    "colab": {
     "base_uri": "https://localhost:8080/",
     "height": 35
    },
    "colab_type": "code",
    "id": "exWw8IJ_YBrJ",
    "outputId": "bb494694-99bc-43d8-b7e1-08b1e69b4cf9"
   },
   "outputs": [],
   "source": []
  },
  {
   "cell_type": "markdown",
   "metadata": {
    "colab": {
     "base_uri": "https://localhost:8080/",
     "height": 177
    },
    "colab_type": "code",
    "id": "7iBoDhXfsaQ4",
    "outputId": "fd0b5620-4ebc-4549-92f5-7d91243f1fbd"
   },
   "source": [
    "### Ex. 6: While loop\n",
    "\n",
    "The `while` loop repeats the code inside the loop \"while\" the condition is true:\n",
    "\n",
    "    n = 5\n",
    "    while n > 0:\n",
    "        print(n)\n",
    "        n -= 1\n",
    "        \n",
    "An endless cycle:\n",
    "\n",
    "    while True:\n",
    "        # do something\n",
    "        user_answer = input('Do you want to continue? [y/n]: ')\n",
    "        if user_answer != 'y':\n",
    "            break # this stops the loop"
   ]
  },
  {
   "cell_type": "code",
   "execution_count": null,
   "metadata": {},
   "outputs": [],
   "source": []
  },
  {
   "cell_type": "markdown",
   "metadata": {
    "colab_type": "text",
    "id": "cz9Cp1HjwWk4"
   },
   "source": [
    "- Build a ladder of a given height:\n",
    "\n",
    "      #\n",
    "      ##\n",
    "      ###\n",
    "      ####\n",
    "\n",
    "How to do:\n",
    "\n",
    "- Ask user for the height of the ladder. \n",
    "  - Check that the input is a positive integer\n",
    "- Assign n = 1.\n",
    "- Repeat printing n symbols `#` while n is smaller than height.\n",
    "- On each iteration increase n by 1."
   ]
  },
  {
   "cell_type": "code",
   "execution_count": null,
   "metadata": {
    "colab": {
     "base_uri": "https://localhost:8080/",
     "height": 212
    },
    "colab_type": "code",
    "id": "Ez0ih_nJwaK1",
    "outputId": "5fd3fa32-cfaf-4a6e-cb61-c474c75639be"
   },
   "outputs": [],
   "source": []
  },
  {
   "cell_type": "markdown",
   "metadata": {
    "colab_type": "text",
    "id": "S60W_UCVYCB6"
   },
   "source": [
    "### Ex. 7: Guess a number\n",
    "\n",
    "The user tries to guess a number given by the computer between 1 and 10 inclusive\n",
    "\n",
    "After each attempt, the computer tells you whether its number is higher or lower than the number given by the user.\n",
    "\n",
    "Generate a random number from 1 to 10:\n",
    "\n",
    "    import numpy as np\n",
    "    rnd = np.random.randint(1, 11)\n",
    "    \n",
    "How to do:\n",
    "- while user haven't guessed the number, give the hints (lower, higher)\n",
    "- If the number is guessed, print congratulations\n",
    "- Additional: count number of user's guesses"
   ]
  },
  {
   "cell_type": "code",
   "execution_count": null,
   "metadata": {
    "colab": {
     "base_uri": "https://localhost:8080/",
     "height": 88
    },
    "colab_type": "code",
    "id": "kttwVkkUYG-O",
    "outputId": "e1fb13dc-8748-4207-8b2c-e74de075922c"
   },
   "outputs": [],
   "source": []
  },
  {
   "cell_type": "markdown",
   "metadata": {
    "colab_type": "text",
    "id": "UzlBMweUG0iN"
   },
   "source": [
    "# Homework 2\n",
    "\n",
    "You need to write a program that plays matches against a person. There are a certain number of matches on the table (e.g. 20). Each player in s/his turn must take from 1 to N matches (usually `N = 4`, but the program needs to use `N` as a variable, not 4 as a constant). The one who takes the last match wins.\n",
    "\n",
    "The user starts, the computer goes second. The program continues *as long as* there are still matches on the table. The program asks the user how many matches he/she wants to take and subtracts them (if there are still matches on the table) from the matches available on the table. When someone has taken the last match, the program says who has won.\n",
    "\n",
    "After each move, the software prints the number of remaining matches in vertical lines: |||||||||||\n",
    "\n",
    "The program should check that the number of matches taken by the user is valid (i.e. lies between 1 and N).\n",
    "\n",
    "For the computer to implement the following tactic: each time the computer should try to keep the number of matches divisible by N+1 after his move. This is not always possible: if the number of matches on the table is already a multiple of N+1, then only one match must be taken.\n",
    "\n",
    "Additional task: with the tactics described above, the computer is guaranteed to win, unless the human uses the same strategy from the first move. The assignment is to add the possibility with some small probability (say 10%) for the computer to make a wrong move. To do something with n% probability is as follows:\n",
    "\n",
    "    if np.random.randint(100) < n:\n",
    "        # do something\n",
    "        \n",
    "How to make a wrong computer move: `computer_takes = np.random.randint(1, N+1)`.\n",
    "\n",
    "At the beginning of the game, the user is asked to choose the computer's difficulty: low, medium, high. The lower the difficulty, the more likely the computer is to make a mistake."
   ]
  },
  {
   "cell_type": "code",
   "execution_count": 0,
   "metadata": {
    "colab": {},
    "colab_type": "code",
    "id": "3DBAg1MYHN49"
   },
   "outputs": [],
   "source": []
  },
  {
   "cell_type": "markdown",
   "metadata": {
    "colab_type": "text",
    "id": "-mjCh0N_A4td"
   },
   "source": [
    "### Ex. 8: For loop\n",
    "\n",
    "- The code under the for loop will repeat for all values i:\n",
    "\n",
    "        for i in range(10):\n",
    "            print(i)\n",
    "            \n",
    "- `range` *generates* integer iterators. Try `range?`"
   ]
  },
  {
   "cell_type": "code",
   "execution_count": null,
   "metadata": {
    "colab": {
     "base_uri": "https://localhost:8080/",
     "height": 340
    },
    "colab_type": "code",
    "id": "57mMNeHhIWKy",
    "outputId": "b3f3c720-40d5-449b-b23f-c73ea0070411"
   },
   "outputs": [],
   "source": []
  },
  {
   "cell_type": "markdown",
   "metadata": {
    "colab_type": "text",
    "id": "GTOsG0gDInnB"
   },
   "source": [
    "- `break`, `continue` to manage the loop:\n",
    "\n",
    "        guess = 0\n",
    "        money = 10\n",
    "        for i in range(money):\n",
    "            roulette = np.random.randint(37)\n",
    "            if guess == roulette:\n",
    "                print('You won!')\n",
    "                if input('Want to continue? [y/n]') != 'n':\n",
    "                    continue\n",
    "                else:\n",
    "                    break\n",
    "            money -= 1\n",
    "        print(f\"You're left with ${money}\")\n",
    "\n",
    "- Вывести все числа меньше 100, которые делятся на 2 и являются полными квадратами"
   ]
  },
  {
   "cell_type": "code",
   "execution_count": null,
   "metadata": {
    "colab": {
     "base_uri": "https://localhost:8080/",
     "height": 145
    },
    "colab_type": "code",
    "id": "2qTtzgpBIZML",
    "outputId": "b2e93a64-1f65-4187-cd0c-fea86faf0652"
   },
   "outputs": [],
   "source": []
  },
  {
   "cell_type": "markdown",
   "metadata": {},
   "source": [
    "Output all numbers less than 100 that are divisible by 2 and are all complete squares"
   ]
  },
  {
   "cell_type": "code",
   "execution_count": null,
   "metadata": {},
   "outputs": [],
   "source": []
  },
  {
   "cell_type": "markdown",
   "metadata": {
    "colab_type": "text",
    "id": "RzYvnCWp7bks"
   },
   "source": [
    "Compute factorial of a number\n",
    "\n",
    "Factorial of 5 is\n",
    "\n",
    "$5! = 1 \\times 2 \\times 3 \\times 4 \\times 5$"
   ]
  },
  {
   "cell_type": "code",
   "execution_count": null,
   "metadata": {
    "colab": {},
    "colab_type": "code",
    "id": "TRjrEKZsq62Q"
   },
   "outputs": [],
   "source": []
  },
  {
   "cell_type": "code",
   "execution_count": null,
   "metadata": {
    "colab": {
     "base_uri": "https://localhost:8080/",
     "height": 336
    },
    "colab_type": "code",
    "id": "yoPd03x48Mwk",
    "outputId": "4036d334-87e7-4f85-e0b9-bc0393fe6d60"
   },
   "outputs": [],
   "source": []
  },
  {
   "cell_type": "markdown",
   "metadata": {},
   "source": [
    "Repeat the ladder using the for loop. Which implementation is more compact and clear - with while or for?"
   ]
  },
  {
   "cell_type": "code",
   "execution_count": null,
   "metadata": {
    "colab": {
     "base_uri": "https://localhost:8080/",
     "height": 145
    },
    "colab_type": "code",
    "id": "SrkFjlemsGQM",
    "outputId": "54c6a597-388b-4b11-bce1-45ca61c86001"
   },
   "outputs": [],
   "source": []
  },
  {
   "cell_type": "markdown",
   "metadata": {},
   "source": [
    "# Homework 3\n",
    "\n",
    "- Print a diamond of given size. Here is a diamond of size 3:\n",
    "\n",
    "        /\\\n",
    "       //\\\\\n",
    "      //  \\\\\n",
    "      \\\\  //\n",
    "       \\\\//\n",
    "        \\/\n",
    "\n",
    "- Calculate $\\pi$ to 10 decimal places (i.e., the 10th decimal place should be calculated accurately, and the 11th decimal place probably with some error). Recall: the number $\\pi$ is equal to the ratio of the circumference of a circle to its diameter and is expressed as an infinite non-periodic decimal fraction, approximately equal to 3.14. The number $\\pi$ is equal to the sum of the following series:\n",
    "\n",
    "$\\pi = \\sqrt{12} \\sum_{k=0}^{\\infty} \\frac{(-3)^{-k}}{2k + 1}$\n",
    "\n",
    "- Reverse a given integer number. For example, for input 12345 the expected output 54321. Hint: use modulo operator with 10."
   ]
  },
  {
   "cell_type": "code",
   "execution_count": null,
   "metadata": {},
   "outputs": [],
   "source": []
  }
 ],
 "metadata": {
  "colab": {
   "collapsed_sections": [],
   "name": "PythonBasics1 Борис.ipynb",
   "provenance": [],
   "toc_visible": true
  },
  "kernelspec": {
   "display_name": "Python 3 (ipykernel)",
   "language": "python",
   "name": "python3"
  },
  "language_info": {
   "codemirror_mode": {
    "name": "ipython",
    "version": 3
   },
   "file_extension": ".py",
   "mimetype": "text/x-python",
   "name": "python",
   "nbconvert_exporter": "python",
   "pygments_lexer": "ipython3",
   "version": "3.9.13"
  }
 },
 "nbformat": 4,
 "nbformat_minor": 1
}
