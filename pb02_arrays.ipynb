{
 "cells": [
  {
   "cell_type": "markdown",
   "metadata": {
    "colab_type": "text",
    "id": "aYXn4Gv-8NnS"
   },
   "source": [
    "# Arrays\n",
    "\n",
    "Arrays are a convenient way of storing data. For example, the price of fuel for several different gas stations. Or the grades of students in a group. In any case, it is best to store data in an array. Compare the two codes:\n",
    "\n",
    "      price1 = 1.85\n",
    "      price2 = 1.99\n",
    "      price3 = 1.92\n",
    "      price4 = 2.00\n",
    "      ...\n",
    "\n",
    "Or \n",
    "\n",
    "      price = [1.85, 1.99, 1.92, 2.00]\n",
    "      \n",
    "Obviously, the second is shorter, clearer, and allows to avoid many bugs"
   ]
  },
  {
   "cell_type": "markdown",
   "metadata": {
    "colab_type": "text",
    "id": "Qsn9wuf4tbte"
   },
   "source": [
    "## list\n",
    "\n",
    "One of the most used array types is list. It is defined using square brackets:\n",
    "\n",
    "    x = [1, 2, 3]\n",
    "\n",
    "Each element in a list can be accessed via an index. Arrays in Python are indexed starting from 0:\n",
    "\n",
    "    x[1] # -- here we have the number 2\n",
    "    \n",
    "Examples of use:\n",
    "- values of a mathematical function at some point X\n",
    "- the speed of a vehicle on different sections\n",
    "- machine learning model training history"
   ]
  },
  {
   "cell_type": "code",
   "execution_count": 1,
   "metadata": {
    "colab": {
     "base_uri": "https://localhost:8080/",
     "height": 324
    },
    "colab_type": "code",
    "id": "DcAk8JdeJ5jg",
    "outputId": "c57da225-97ae-4549-9188-095b44b4f30b"
   },
   "outputs": [
    {
     "data": {
      "image/png": "[encoded data removed]",
      "text/plain": [
       "<Figure size 640x480 with 1 Axes>"
      ]
     },
     "metadata": {},
     "output_type": "display_data"
    }
   ],
   "source": [
    "from numpy import sin\n",
    "\n",
    "x = list(range(10))\n",
    "y = list(sin(x))\n",
    "\n",
    "import matplotlib.pyplot as plt\n",
    "plt.plot(x, y)\n",
    "plt.show()"
   ]
  },
  {
   "cell_type": "markdown",
   "metadata": {
    "colab_type": "text",
    "id": "etNiqyNHMTum"
   },
   "source": [
    "Solve without writing the code: we define a list with\n",
    "\n",
    "    x = list(range(10))\n",
    "\n",
    "What value has `x[5]`?\n",
    "\n",
    "Check the type of `x` when `x = range(10)`."
   ]
  },
  {
   "cell_type": "code",
   "execution_count": null,
   "metadata": {},
   "outputs": [],
   "source": []
  },
  {
   "cell_type": "markdown",
   "metadata": {
    "colab_type": "text",
    "id": "gYAoyiQIT3gC"
   },
   "source": [
    "Experiment yourself: What happens when you add up two arrays? An array and a number? What happens when you multiply an array by a number? And an array by an array?"
   ]
  },
  {
   "cell_type": "code",
   "execution_count": 0,
   "metadata": {
    "colab": {},
    "colab_type": "code",
    "id": "_5sS4GSsUCt8"
   },
   "outputs": [],
   "source": []
  },
  {
   "cell_type": "markdown",
   "metadata": {
    "colab_type": "text",
    "id": "5VgQIPc3UQ6s"
   },
   "source": [
    "Have you noticed that arrays behave exactly like strings? In fact, strings in Python are arrays of characters. Try taking the nth element of any string."
   ]
  },
  {
   "cell_type": "code",
   "execution_count": 0,
   "metadata": {
    "colab": {},
    "colab_type": "code",
    "id": "iyaJzgZ4UhRT"
   },
   "outputs": [],
   "source": []
  },
  {
   "cell_type": "markdown",
   "metadata": {
    "colab_type": "text",
    "id": "tBX00TWHMRVW"
   },
   "source": [
    "Taking a sub-array in Python is easy:\n",
    "\n",
    "    x = range(10)\n",
    "    y = x[4:7]\n",
    "    print(y)\n",
    "    \n",
    "For example, we have an array of Google share prices over two years day by day, and we are interested in its sub-array for the first year:\n",
    "\n",
    "    google_price[:365]\n",
    "    \n",
    "Taking the second year:\n",
    "\n",
    "    google_price[365:]\n",
    "\n",
    "Do arrays `google_price[:365]` and `google_price[365:]` overlap? (Experiment)\n",
    "\n",
    "Taking every second element:\n",
    "\n",
    "    x[::2]\n",
    "\n",
    "Taking every second element starting at element 1:\n",
    "\n",
    "    x[1::2]"
   ]
  },
  {
   "cell_type": "code",
   "execution_count": null,
   "metadata": {
    "colab": {
     "base_uri": "https://localhost:8080/",
     "height": 76
    },
    "colab_type": "code",
    "id": "UFgKr14yMHjZ",
    "outputId": "85ad30ef-f774-4d37-aeb9-4053293d7ad8"
   },
   "outputs": [],
   "source": []
  },
  {
   "cell_type": "markdown",
   "metadata": {
    "colab_type": "text",
    "id": "Aytje11GStjJ"
   },
   "source": [
    "## Ex. 1: shuffling arrays\n",
    "Let\n",
    "\n",
    "    x = [1, 2, 3, 4]\n",
    "\n",
    "Create an array (by shuffling the elements of x)\n",
    "\n",
    "    y = [3, 4, 1, 2]\n",
    "    \n",
    "Create an array (by shuffling the elements of x)\n",
    "\n",
    "    z = [4, 3, 2, 1]"
   ]
  },
  {
   "cell_type": "code",
   "execution_count": 0,
   "metadata": {
    "colab": {},
    "colab_type": "code",
    "id": "MIrkQTCzLWN3"
   },
   "outputs": [],
   "source": []
  },
  {
   "cell_type": "markdown",
   "metadata": {
    "colab_type": "text",
    "id": "W5vYoH_rNFQI"
   },
   "source": [
    "Experiment yourself: what happens if you try to adress the negative indices of an array?\n",
    "\n",
    "    x[-1]\n",
    "    x[-2]"
   ]
  },
  {
   "cell_type": "code",
   "execution_count": 0,
   "metadata": {
    "colab": {},
    "colab_type": "code",
    "id": "XRCKICTCNBG6"
   },
   "outputs": [],
   "source": []
  },
  {
   "cell_type": "markdown",
   "metadata": {
    "colab_type": "text",
    "id": "JYtchso5f1Mf"
   },
   "source": [
    "In general, the indexing syntax is as follows:\n",
    "\n",
    "    x[start:stop:step]\n",
    "    \n",
    "Any of the three indices can be omitted. Start -- start index, stop -- end index (not included in the sub-array), step -- how many elements to jump over."
   ]
  },
  {
   "cell_type": "code",
   "execution_count": 0,
   "metadata": {
    "colab": {},
    "colab_type": "code",
    "id": "5NjT_pGNOu1-"
   },
   "outputs": [],
   "source": []
  },
  {
   "cell_type": "code",
   "execution_count": 0,
   "metadata": {
    "colab": {},
    "colab_type": "code",
    "id": "liubGEDef0Q9"
   },
   "outputs": [],
   "source": []
  },
  {
   "cell_type": "markdown",
   "metadata": {
    "colab_type": "text",
    "id": "HZAbl40LgP1v"
   },
   "source": [
    "Guess what the following code is doing\n",
    "\n",
    "    x = [4, 6, 2, 1]\n",
    "    x.sort()"
   ]
  },
  {
   "cell_type": "code",
   "execution_count": 0,
   "metadata": {
    "colab": {},
    "colab_type": "code",
    "id": "wM75bInhoVP5"
   },
   "outputs": [],
   "source": []
  },
  {
   "cell_type": "markdown",
   "metadata": {
    "colab_type": "text",
    "id": "toy0zFv9oV_7"
   },
   "source": [
    "Guess what the following code is doing:\n",
    "\n",
    "    x = [1, 4, 6, 2, 7]\n",
    "    l = len(x)\n",
    "    l"
   ]
  },
  {
   "cell_type": "code",
   "execution_count": null,
   "metadata": {},
   "outputs": [],
   "source": []
  },
  {
   "cell_type": "markdown",
   "metadata": {},
   "source": [
    "Full list of array functions:\n",
    "\n",
    "- append()\tAdds an element at the end of the list\n",
    "- clear()\tRemoves all the elements from the list\n",
    "- copy()\tReturns a copy of the list\n",
    "- count()\tReturns the number of elements with the specified value\n",
    "- extend()\tAdd the elements of a list (or any iterable), to the end of the current list\n",
    "- index()\tReturns the index of the first element with the specified value\n",
    "- insert()\tAdds an element at the specified position\n",
    "- pop()\tRemoves the element at the specified position\n",
    "- remove()\tRemoves the first item with the specified value\n",
    "- reverse()\tReverses the order of the list\n",
    "- sort()\tSorts the list\n",
    "\n",
    "The most useful here: append."
   ]
  },
  {
   "cell_type": "code",
   "execution_count": 0,
   "metadata": {
    "colab": {},
    "colab_type": "code",
    "id": "6TOkfIwVf_Cx"
   },
   "outputs": [],
   "source": []
  },
  {
   "cell_type": "markdown",
   "metadata": {},
   "source": [
    "The true power of python arrays -- using them in `for` loops\n",
    "\n",
    "Example: gaz prices on several stations:\n",
    "    \n",
    "    price = [1.85, 1.99, 1.92, 2.00]\n",
    "    \n",
    "Loop through the prices:\n",
    "\n",
    "    for p in price: # at every iteration p is assigned to the next element\n",
    "        print(p)\n",
    "    \n",
    "No need to access elements by index!\n",
    "    \n",
    "Finding the minimal price:\n",
    "\n",
    "    min_price = 100 # initialise with some absurdly large value\n",
    "    for p in price:\n",
    "        if p < min_price:\n",
    "            min_price = p"
   ]
  },
  {
   "cell_type": "code",
   "execution_count": null,
   "metadata": {},
   "outputs": [],
   "source": []
  },
  {
   "cell_type": "markdown",
   "metadata": {},
   "source": [
    "In the example above it is more convenient to use python functions `min` and `max`\n",
    "\n",
    "    min(price)\n",
    "    max(price)\n",
    "    \n",
    "Other useful functions:\n",
    "\n",
    "    len\n",
    "    sum"
   ]
  },
  {
   "cell_type": "code",
   "execution_count": null,
   "metadata": {},
   "outputs": [],
   "source": []
  },
  {
   "cell_type": "code",
   "execution_count": null,
   "metadata": {},
   "outputs": [],
   "source": []
  },
  {
   "cell_type": "markdown",
   "metadata": {
    "colab_type": "text",
    "id": "I8H_4_fWqjZe"
   },
   "source": [
    "# Homework 1"
   ]
  },
  {
   "cell_type": "markdown",
   "metadata": {
    "colab_type": "text",
    "id": "rTLI4tF6nK2v"
   },
   "source": [
    "- Calculate the arithmetic mean of the array\n",
    "\n",
    "$\\overline x = \\frac{\\sum_{i=0}^{N} x_i}{N}$\n",
    "\n",
    "- Calculate the standard deviation\n",
    "\n",
    "$\\sigma = \\sqrt{\\frac{\\sum_{i=0}^N (x_i - \\overline x)^2}{N}}$\n",
    "\n",
    "- There is an array x. Create an array where element number i is the sum of the elements of x from zero to i inclusive.\n",
    "\n",
    "- Create an empty array\n",
    "\n",
    "      x = []\n",
    "    \n",
    "In the loop add to x the squares of numbers from 1 to 10 inclusive.\n",
    "\n",
    "- Create an array with 100-point grades for 20 students:\n",
    "\n",
    "      # Here we create an element of 20 elements\n",
    "      # each element is a random number from 1 to 100\n",
    "      import numpy as np\n",
    "      x = list(np.random.randint(1, 101, 20))\n",
    "\n",
    "Convert it to an array of 5-point grades using the following rules:\n",
    "- if <40 then D\n",
    "- if >=40 but <70, then C\n",
    "- if >=70 but <85 then B\n",
    "- if >85 then A\n",
    "\n",
    "Count how many students got excellent, how many got good, etc.\n",
    "\n",
    "The grade scheme suddenly changed. Now it is 20-point instead of 100. Modify the array of input grades by dividing all values by 5 and rounding them."
   ]
  },
  {
   "cell_type": "code",
   "execution_count": 0,
   "metadata": {
    "colab": {},
    "colab_type": "code",
    "id": "7I0677IIgoTg"
   },
   "outputs": [],
   "source": []
  },
  {
   "cell_type": "code",
   "execution_count": 0,
   "metadata": {
    "colab": {},
    "colab_type": "code",
    "id": "DP8fTZGqoo5M"
   },
   "outputs": [],
   "source": []
  },
  {
   "cell_type": "code",
   "execution_count": 0,
   "metadata": {
    "colab": {},
    "colab_type": "code",
    "id": "OXgBhzWBrSZb"
   },
   "outputs": [],
   "source": []
  },
  {
   "cell_type": "code",
   "execution_count": null,
   "metadata": {
    "colab": {},
    "colab_type": "code",
    "id": "latrY_nTKOtu"
   },
   "outputs": [],
   "source": []
  },
  {
   "cell_type": "code",
   "execution_count": 0,
   "metadata": {
    "colab": {},
    "colab_type": "code",
    "id": "gBY3NbXnagom"
   },
   "outputs": [],
   "source": []
  },
  {
   "cell_type": "markdown",
   "metadata": {
    "colab_type": "text",
    "id": "zn9YAGcNqvjl"
   },
   "source": [
    "## Ex. 2: more arrays\n",
    "\n",
    "Arrays can be multidimentional. In fact, here each element of `x` is an array itself\n",
    "\n",
    "    x = [[1, 2, 3], [4, 5, 6]]\n",
    "\n",
    "Experiment yourself: how to access elements of `x` by their indices?"
   ]
  },
  {
   "cell_type": "code",
   "execution_count": 0,
   "metadata": {
    "colab": {},
    "colab_type": "code",
    "id": "tWdkswNYrCyW"
   },
   "outputs": [],
   "source": []
  },
  {
   "cell_type": "markdown",
   "metadata": {
    "colab_type": "text",
    "id": "MxqlI5VQsKuL"
   },
   "source": [
    "Try to guess (without coding) if the following arrays can be created:\n",
    "\n",
    "    x = [[1, 2, 3], [4, 5]]\n",
    "    x = [1, 'a', true]\n",
    "    x = [1, [2, 3], 4]\n",
    "    \n",
    "Try it"
   ]
  },
  {
   "cell_type": "code",
   "execution_count": 0,
   "metadata": {
    "colab": {},
    "colab_type": "code",
    "id": "pqO7eK1dsIcv"
   },
   "outputs": [],
   "source": []
  },
  {
   "cell_type": "markdown",
   "metadata": {
    "colab_type": "text",
    "id": "3hqUogQare7O"
   },
   "source": [
    "- Create a two-dimensional array. Calculate its arithmetic mean."
   ]
  },
  {
   "cell_type": "code",
   "execution_count": 0,
   "metadata": {
    "colab": {},
    "colab_type": "code",
    "id": "DL-q4_xSrRkX"
   },
   "outputs": [],
   "source": []
  },
  {
   "cell_type": "markdown",
   "metadata": {
    "colab_type": "text",
    "id": "43jTGwQxr9kG"
   },
   "source": [
    "Try to guess and then experiment yourself: what is the output of the following code?\n",
    "\n",
    "      x = [[1, 2, 3], [4, 5]]\n",
    "      sum(x)"
   ]
  },
  {
   "cell_type": "code",
   "execution_count": null,
   "metadata": {
    "colab": {},
    "colab_type": "code",
    "id": "pbOaStdBrxQQ"
   },
   "outputs": [],
   "source": []
  },
  {
   "cell_type": "markdown",
   "metadata": {},
   "source": [
    "P.S. an example above illustrates a bad style of coding. The main characteristics of a good style is the readability of the code. One should be able to understand the code without running it.\n",
    "\n",
    "P.P.S if to solve your problem you wrote a fast and bug-free but unreadable code, then don't hesitate to use it."
   ]
  },
  {
   "cell_type": "markdown",
   "metadata": {},
   "source": [
    "## Ex. 3: In-line creation of arrays\n",
    "\n",
    "A very elegant way to create arrays:\n",
    "\n",
    "      arr = [x**2 for x in range(10)]\n",
    "      \n",
    "the code above creates a list of 10 elements with squares of numbers from 0 to 9\n",
    "\n",
    "A way less elegant way to do the same:\n",
    "\n",
    "      arr = []\n",
    "      for x in range(10):\n",
    "          arr.append(x**2)"
   ]
  },
  {
   "cell_type": "markdown",
   "metadata": {},
   "source": [
    "- Create an array that contains $\\sin(x)$ where x are the elements of another (pre-existed) array\n",
    "- Create an array of modulos 5 of elements in `range(20)`"
   ]
  },
  {
   "cell_type": "code",
   "execution_count": null,
   "metadata": {},
   "outputs": [],
   "source": []
  },
  {
   "cell_type": "code",
   "execution_count": null,
   "metadata": {},
   "outputs": [],
   "source": []
  },
  {
   "cell_type": "markdown",
   "metadata": {},
   "source": [
    "Often in-line arrays are needed to use in-place\n",
    "\n",
    "- Compute the sum of all squares of numbers between 1 and 10:\n",
    "\n",
    "        s = sum([(x + 1)**2 for x in range(10)])\n",
    "        \n",
    "- Take the minimal modulo 5 of all elements in array:\n",
    "\n",
    "        m = min([x%5 for x in input_array])"
   ]
  },
  {
   "cell_type": "markdown",
   "metadata": {},
   "source": [
    "- Find the maximal cosine for the values of the given array\n",
    "- Create a sorted array of sinuses of integer numbers between 0 and 100"
   ]
  },
  {
   "cell_type": "code",
   "execution_count": null,
   "metadata": {},
   "outputs": [],
   "source": []
  },
  {
   "cell_type": "code",
   "execution_count": null,
   "metadata": {},
   "outputs": [],
   "source": []
  },
  {
   "cell_type": "markdown",
   "metadata": {},
   "source": [
    "In-line arrays can be created with condition.\n",
    "- From a given array select elements that are full squares\n",
    "\n",
    "        full_squares = [x for x in input_array if (int(x**0.5))**2 == x]\n",
    "        \n",
    "- Select elements divisible by 3\n",
    "\n",
    "        mult_3 = [x for x in range(10) if x%3 == 0]"
   ]
  },
  {
   "cell_type": "code",
   "execution_count": null,
   "metadata": {},
   "outputs": [],
   "source": []
  },
  {
   "cell_type": "markdown",
   "metadata": {},
   "source": [
    "## Ex. 4: in, all, any\n",
    "\n",
    "Check if element if present in the array:\n",
    "\n",
    "        if 42 in arr:\n",
    "            print('Found it!')\n",
    "        else:\n",
    "            print('No 42 in the array')\n",
    "            \n",
    "Sometimes you need arrays that contain boolean values. Check that all the values are `True`:\n",
    "\n",
    "        arr = [True, True, True]\n",
    "        if all(arr):\n",
    "            print('All are true!')\n",
    "\n",
    "Check that at least one is `True`:\n",
    "\n",
    "        arr = [False, False, True]\n",
    "        if any(arr):\n",
    "            print('There is at least one True!')"
   ]
  },
  {
   "cell_type": "markdown",
   "metadata": {},
   "source": [
    "- Create two arrays. Create a new that contains all the elements of the 1st that are also present in the 2nd (use in-line syntaxis)\n",
    "\n",
    "- Pythagoras theorem check: Check if all sums of $sin^2$ and $cos^2$ of numbers between 0 and 100 are equal 1. How can you explain the result? How to modify the code to show the validity of the theorem?"
   ]
  },
  {
   "cell_type": "code",
   "execution_count": null,
   "metadata": {},
   "outputs": [],
   "source": []
  },
  {
   "cell_type": "code",
   "execution_count": null,
   "metadata": {},
   "outputs": [],
   "source": []
  },
  {
   "cell_type": "code",
   "execution_count": null,
   "metadata": {},
   "outputs": [],
   "source": []
  },
  {
   "cell_type": "markdown",
   "metadata": {},
   "source": [
    "# Homework 2\n",
    "\n",
    "All this can be done in one line! (not counting the creation of the input arrays)\n",
    "\n",
    "- Create a string that contains all characters from 'Hello World' except vowels\n",
    "    - test your code on 'Per Aspera Ad Astra'. Modify code if needed.\n",
    "    \n",
    "    Convert an array of characters to string:\n",
    "    \n",
    "    \n",
    "        s = ''.join(['a', 'b', 'c'])\n",
    "    \n",
    "- Check if any value mutually present in two input arrays is divisible by 2\n",
    "- As input you have an array of numbers and a \"desired\" value. In the array find the largest deviation from the desired value.\n",
    "\n",
    "    Take an absolute value of a number:\n",
    "    \n",
    "        abs(x)\n",
    "        \n",
    "    Or\n",
    "    \n",
    "        (x**2)**0.5\n",
    "    \n",
    "    - Check if any of the array elements is equal to the desired value\n",
    "    \n",
    "- Square all elements of an array"
   ]
  },
  {
   "cell_type": "code",
   "execution_count": null,
   "metadata": {},
   "outputs": [],
   "source": []
  },
  {
   "cell_type": "code",
   "execution_count": null,
   "metadata": {},
   "outputs": [],
   "source": []
  },
  {
   "cell_type": "code",
   "execution_count": null,
   "metadata": {},
   "outputs": [],
   "source": []
  },
  {
   "cell_type": "markdown",
   "metadata": {
    "colab_type": "text",
    "id": "K2B2-F9Ntd1v"
   },
   "source": [
    "## tuple\n",
    "\n",
    "tuple is different from the list: tuple is not changeable. It is defined with `()`:\n",
    "\n",
    "    x = (1, 2, 3)\n",
    "\n",
    "What will happen if you try to modify an element of a tuple?\n",
    "\n",
    "    x[1] = 3\n",
    "\n",
    "Like this?\n",
    "\n",
    "    x *= 2\n",
    "    x += (4, 5, 6)"
   ]
  },
  {
   "cell_type": "code",
   "execution_count": 0,
   "metadata": {
    "colab": {},
    "colab_type": "code",
    "id": "q8L8vVYuuO1P"
   },
   "outputs": [],
   "source": []
  },
  {
   "cell_type": "markdown",
   "metadata": {},
   "source": [
    "What benefits of using tuples can you think of? Measure time to create a list `[1, 2, 3]` and a tuple `(1, 2, 3)`. You can measure the execution time of a command using the magic command `%timeit`."
   ]
  },
  {
   "cell_type": "code",
   "execution_count": 34,
   "metadata": {},
   "outputs": [
    {
     "name": "stdout",
     "output_type": "stream",
     "text": [
      "57.5 ns ± 0.347 ns per loop (mean ± std. dev. of 7 runs, 10000000 loops each)\n"
     ]
    }
   ],
   "source": [
    "%timeit l = [1, 2, 3]"
   ]
  },
  {
   "cell_type": "code",
   "execution_count": 35,
   "metadata": {},
   "outputs": [
    {
     "name": "stdout",
     "output_type": "stream",
     "text": [
      "17.1 ns ± 1.19 ns per loop (mean ± std. dev. of 7 runs, 10000000 loops each)\n"
     ]
    }
   ],
   "source": [
    "%timeit l = (1, 2, 3)"
   ]
  },
  {
   "cell_type": "code",
   "execution_count": null,
   "metadata": {},
   "outputs": [],
   "source": []
  },
  {
   "cell_type": "markdown",
   "metadata": {},
   "source": [
    "# Homework 3:\n",
    "\n",
    "Go through the excercises above and check, which ones can be redone with tuples and where it makes sense (improves execution time)."
   ]
  },
  {
   "cell_type": "code",
   "execution_count": null,
   "metadata": {},
   "outputs": [],
   "source": []
  },
  {
   "cell_type": "markdown",
   "metadata": {
    "colab_type": "text",
    "id": "fLeCQLUkZzCG"
   },
   "source": [
    "## set\n",
    "\n",
    "Set is different from other arrays. Its elements are unique. Try to create an set:\n",
    "\n",
    "    s = {1, 2, 3, 1, 2}\n",
    "\n",
    "And then print it. How long is the resulting set?"
   ]
  },
  {
   "cell_type": "code",
   "execution_count": null,
   "metadata": {
    "colab": {},
    "colab_type": "code",
    "id": "Kh0x8HsOudg6"
   },
   "outputs": [],
   "source": []
  },
  {
   "cell_type": "markdown",
   "metadata": {
    "colab_type": "text",
    "id": "4jomoQtOh_1d"
   },
   "source": [
    "Sets can't be indexed.\n",
    "Try\n",
    "\n",
    "    s[1]"
   ]
  },
  {
   "cell_type": "code",
   "execution_count": null,
   "metadata": {
    "colab": {},
    "colab_type": "code",
    "id": "3efyKeG4iD5i"
   },
   "outputs": [],
   "source": []
  },
  {
   "cell_type": "markdown",
   "metadata": {
    "colab_type": "text",
    "id": "Ko6qOm-DiEc9"
   },
   "source": [
    "However, you still can have a loop over the elements of a set:\n",
    "\n",
    "    for el in s:\n",
    "        # do something...\n",
    "\n",
    "- Make a set of students in the group"
   ]
  },
  {
   "cell_type": "code",
   "execution_count": 0,
   "metadata": {
    "colab": {},
    "colab_type": "code",
    "id": "sbWRMSRiiFls"
   },
   "outputs": [],
   "source": []
  },
  {
   "cell_type": "markdown",
   "metadata": {
    "colab_type": "text",
    "id": "ku99p5NGiGFh"
   },
   "source": [
    "`in` is especially usefull with sets:\n",
    "\n",
    "    if 6 in s:\n",
    "        print(\"6 is in s\")\n",
    "\n",
    "Check if John is in the list of students"
   ]
  },
  {
   "cell_type": "code",
   "execution_count": 0,
   "metadata": {
    "colab": {},
    "colab_type": "code",
    "id": "JqQ5jprGiK63"
   },
   "outputs": [],
   "source": []
  },
  {
   "cell_type": "markdown",
   "metadata": {},
   "source": [
    "Since set elements are all unique, element search in sets is very well optimized.\n",
    "\n",
    "Compare time to execute `in` for a list, tuple and set of same length."
   ]
  },
  {
   "cell_type": "code",
   "execution_count": null,
   "metadata": {},
   "outputs": [],
   "source": []
  },
  {
   "cell_type": "markdown",
   "metadata": {
    "colab_type": "text",
    "id": "oqjW6xdsiLiv"
   },
   "source": [
    "## dictionary\n",
    "\n",
    "Dictionary is a set with named elements\n",
    "\n",
    "    {'name1': 1, 'name2': 2}\n",
    "    \n",
    "Dictionary keys (names) are unique, like elements in set\n",
    "\n",
    "Declare an empty dictionary:\n",
    "\n",
    "    d = {}\n",
    "\n",
    "Add a new element\n",
    "\n",
    "    d['a'] = 1\n",
    "\n",
    "Loop through the elements:\n",
    "\n",
    "    for el in d:\n",
    "        print(el, d[el])"
   ]
  },
  {
   "cell_type": "code",
   "execution_count": null,
   "metadata": {},
   "outputs": [],
   "source": []
  },
  {
   "cell_type": "code",
   "execution_count": null,
   "metadata": {
    "colab": {
     "base_uri": "https://localhost:8080/",
     "height": 55
    },
    "colab_type": "code",
    "id": "iFja4Gnhelyi",
    "outputId": "655b995a-95ec-426c-db6c-5f37739c4dab"
   },
   "outputs": [],
   "source": []
  },
  {
   "cell_type": "markdown",
   "metadata": {
    "colab_type": "text",
    "id": "vE-G1vBse7ws"
   },
   "source": [
    "Dictionary keys can have any type (int and strings are most often used)\n",
    "\n",
    "    d = {1: 1, 2: 2}\n",
    "    print(d[2])"
   ]
  },
  {
   "cell_type": "code",
   "execution_count": null,
   "metadata": {
    "colab": {},
    "colab_type": "code",
    "id": "C3bl3zO9fHR-"
   },
   "outputs": [],
   "source": []
  },
  {
   "cell_type": "markdown",
   "metadata": {
    "colab_type": "text",
    "id": "YYF--iunfduc"
   },
   "source": [
    "To get all keys use `.keys()`:\n",
    "\n",
    "    d.keys()\n",
    "    \n",
    "You can loop through the elements of a dictionary:\n",
    "\n",
    "    for k in d:\n",
    "        d[k]"
   ]
  },
  {
   "cell_type": "markdown",
   "metadata": {
    "colab_type": "text",
    "id": "sal2jWKnfMmr"
   },
   "source": [
    "Like for set, `in` operation is super fast for dictionaries:\n",
    "\n",
    "    %timeit 1 in d"
   ]
  },
  {
   "cell_type": "code",
   "execution_count": null,
   "metadata": {
    "colab": {},
    "colab_type": "code",
    "id": "V_n3JLT5fx7n"
   },
   "outputs": [],
   "source": []
  },
  {
   "cell_type": "markdown",
   "metadata": {
    "colab_type": "text",
    "id": "GJfKWflweKQP"
   },
   "source": [
    "## Ex. 5\n",
    "\n",
    "There is a pile of socks of different colors. Each color is coded with a number:\n",
    "\n",
    "    socks = [1, 2, 1, 2, 1, 2 ,3, 1]\n",
    "\n",
    "Count how many pairs of each color can be found (in this example: 2 pairs of color 1, 1 pair of color 2, 0 pairs of color 3). Make a dictionary like\n",
    "\n",
    "    {1: 2, 2: 1, 3: 0}"
   ]
  },
  {
   "cell_type": "code",
   "execution_count": null,
   "metadata": {
    "colab": {},
    "colab_type": "code",
    "id": "pN09-Q5ieNpS"
   },
   "outputs": [],
   "source": []
  },
  {
   "cell_type": "markdown",
   "metadata": {
    "colab_type": "text",
    "id": "9cZ6txvDgVTT"
   },
   "source": [
    "Make a dictionary `students` with names of students as keys and their exam marks as values. Make a loop over students and reduce their marks by 1 (if current mark is more than 1)  ( •̀ᴗ•́ )و ̑̑"
   ]
  },
  {
   "cell_type": "code",
   "execution_count": null,
   "metadata": {},
   "outputs": [],
   "source": []
  },
  {
   "cell_type": "markdown",
   "metadata": {},
   "source": [
    "We have two sentences\n",
    "\n",
    "    s1 = 'A mathematician found a solution to the problem.'\n",
    "    s2 = 'The problem was solved by a young mathematician.'\n",
    "    \n",
    "Create a dictionary for each sentence.\n",
    "\n",
    "Для каждого предложения создать словарь, где ключами выступают слова предложения, а значениями -- количество таких слов в предложении. Создать программу для сравнения предложений s1 и s2: если в обоих предложениях встречается слово (например мама), то считаем одно совпадение.\n",
    "\n",
    "Выдать результат в виде \"предложения совпадают на ...%\"\n",
    "\n",
    "Чтобы разделить строку на слова использовать\n",
    "\n",
    "    s1.split()"
   ]
  },
  {
   "cell_type": "code",
   "execution_count": null,
   "metadata": {},
   "outputs": [],
   "source": []
  },
  {
   "cell_type": "markdown",
   "metadata": {},
   "source": [
    "Лучник стреляет в мишень, каждый выстрел записывается как пара координат: x и y. Есть координаты мишени x_target и y_target, радиус мишени r. Создать массив из выстрелов, которые попали в мишень:\n",
    "\n",
    "    (x - x_target)**2 + (y - y_target)**2 < r**2"
   ]
  },
  {
   "cell_type": "code",
   "execution_count": null,
   "metadata": {},
   "outputs": [],
   "source": []
  },
  {
   "cell_type": "markdown",
   "metadata": {
    "colab_type": "text",
    "id": "SVu1q_pgYnyt"
   },
   "source": [
    "Задача: Боб и Алиса идут в ресторан, оба заказывают одинаковую еду и договариваются разделить чек поровну. Но потом Боб хочет еще в добавок заказать десерт, на который у Алисы аллергия (соответственно, она не должна за это платить). Создать функцию, которая рассчитывает, сколько должны заплатить Боб и Алиса.\n",
    "\n",
    "Функция split_bill должна принимать list из цен на заказанные блюда и индекс блюда, за которое Алиса не платит. Функция должна возвращать, сколько денег платит Боб, и сколько Алиса."
   ]
  }
 ],
 "metadata": {
  "colab": {
   "collapsed_sections": [],
   "name": "PythonBasics1 Борис.ipynb",
   "provenance": [],
   "toc_visible": true
  },
  "kernelspec": {
   "display_name": "Python 3 (ipykernel)",
   "language": "python",
   "name": "python3"
  },
  "language_info": {
   "codemirror_mode": {
    "name": "ipython",
    "version": 3
   },
   "file_extension": ".py",
   "mimetype": "text/x-python",
   "name": "python",
   "nbconvert_exporter": "python",
   "pygments_lexer": "ipython3",
   "version": "3.9.13"
  }
 },
 "nbformat": 4,
 "nbformat_minor": 1
}
